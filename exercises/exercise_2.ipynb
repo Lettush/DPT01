{
 "cells": [
  {
   "cell_type": "markdown",
   "metadata": {},
   "source": [
    "### Exercise 1:\n",
    "\n",
    "Exercise 1: Creating and Using Variables\n",
    "1. Create a variable named age and assign your age to it.\n",
    "2. Create another variable named name and assign your name to it.\n",
    "3. Print out a sentence using both variables, like \"My name is ___ and I am ___ years old.\"\n",
    "\n",
    "Exercise 2: Dynamic Typing in Action\n",
    "1. Create a variable x and assign the value 50 to it.\n",
    "2. Change the value of x to a string of your choice.\n",
    "3. Print x and use the type() function to confirm its type has changed.\n",
    "\n",
    "Exercise 3: Variable Naming\n",
    "1. Create three variables: myAge, MYAGE, and my_age, assigning different values to each.\n",
    "2. Print the value of each variable on a separate line.\n",
    "3. Observe how Python treats each variable as distinct based on case sensitivity and naming."
   ]
  },
  {
   "cell_type": "code",
   "execution_count": 3,
   "metadata": {},
   "outputs": [
    {
     "name": "stdout",
     "output_type": "stream",
     "text": [
      "My name is Jared and I am 22 years old.\n",
      "Hello <class 'str'>\n",
      "23 Twenty Three 230\n"
     ]
    }
   ],
   "source": [
    "# Exercise 1\n",
    "age = 22\n",
    "name = \"Jared\"\n",
    "print(f'My name is {name} and I am {age} years old.')\n",
    "\n",
    "# Exercise 2\n",
    "x = 50\n",
    "x = \"Hello\"\n",
    "print(x, type(x))\n",
    "\n",
    "# Exercise 3\n",
    "myAge = 23\n",
    "MYAGE = \"230\"\n",
    "my_age = \"Twenty Three\"\n",
    "print(myAge, my_age, MYAGE)"
   ]
  },
  {
   "cell_type": "markdown",
   "metadata": {},
   "source": [
    "### Exercise 2:\n",
    "\n",
    "Exercise 1: String Operations\n",
    "\n",
    "1. Create a string variable with the value \"Learning Python\".\n",
    "2. Print the first and last character of the string.\n",
    "3. Use slicing to print the word \"Python\" from the string.\n",
    "\n",
    "Exercise 2: Using String Methods\n",
    "\n",
    "1. Create a string variable with the value \"PYTHON IS FUN\".\n",
    "2. Convert the string to lowercase and print the result.\n",
    "3. Replace \"IS\" with \"CAN BE\" and print the new string.\n",
    "\n",
    "Exercise 3: String Formatting\n",
    "\n",
    "1. Given two variables, temperature = 25 and day = \"Saturday\", use string formatting to print \"The temperature on Saturday is 25 degrees\"."
   ]
  },
  {
   "cell_type": "code",
   "execution_count": 10,
   "metadata": {},
   "outputs": [
    {
     "name": "stdout",
     "output_type": "stream",
     "text": [
      "L n\n",
      "Python\n",
      "python is fun\n",
      "PYTHON CAN BE FUN\n",
      "The temperature on Saturday is 25 degrees.\n"
     ]
    }
   ],
   "source": [
    "# Exercise 1\n",
    "string = \"Learning Python\"\n",
    "print(string[0], string[-1])\n",
    "print(string[9:])\n",
    "\n",
    "# Exercise 2\n",
    "string = \"PYTHON IS FUN\"\n",
    "print(string.lower())\n",
    "print(string.replace(\"IS\", \"CAN BE\"))\n",
    "\n",
    "# Exercise 3\n",
    "temperature = 25\n",
    "day = \"Saturday\"\n",
    "\n",
    "print(f\"The temperature on {day} is {temperature} degrees.\")"
   ]
  },
  {
   "cell_type": "markdown",
   "metadata": {},
   "source": [
    "### Exercise 3:\n",
    "\n",
    "Exercise 1: Basic Dictionary Operations\n",
    "\n",
    "1. Create a dictionary named student with keys name, age, and course with appropriate values.\n",
    "2. Add a new key-value pair grade with a value of your choice.\n",
    "3. Print the course value using the get() method.\n",
    "\n",
    "Exercise 2: Updating and Removing Items\n",
    "\n",
    "1. Update the age of the student dictionary to a new value.\n",
    "2. Remove the grade item from the dictionary.\n",
    "3. Print the updated dictionary.\n",
    "\n",
    "Exercise 3: Dictionary Comprehension [BONUS]\n",
    "\n",
    "1. Given a list numbers = [1, 2, 3, 4, 5], create a dictionary with keys being the numbers and values being the squares of the numbers using dictionary comprehension.\n",
    "2. Print the created dictionary."
   ]
  },
  {
   "cell_type": "code",
   "execution_count": 15,
   "metadata": {},
   "outputs": [
    {
     "name": "stdout",
     "output_type": "stream",
     "text": [
      "Data Analytics\n",
      "{'name': 'Jared', 'age': 24, 'course': 'Data Analytics', 'grade': 'A'}\n"
     ]
    },
    {
     "data": {
      "text/plain": [
       "{1: 1, 2: 4, 3: 9, 4: 16, 5: 25}"
      ]
     },
     "execution_count": 15,
     "metadata": {},
     "output_type": "execute_result"
    }
   ],
   "source": [
    "# Exercise 1\n",
    "student = {\n",
    "    \"name\": \"Jared\",\n",
    "    \"age\": 23,\n",
    "    \"course\": \"Data Analytics\"\n",
    "}\n",
    "\n",
    "student[\"grade\"] = \"A\"\n",
    "print(student.get(\"course\"))\n",
    "\n",
    "# Exercise 2\n",
    "student[\"age\"] = 24\n",
    "print(student)\n",
    "\n",
    "# Exercise 3\n",
    "numbers = [1, 2, 3, 4, 5]\n",
    "\n",
    "# Dictionary Comprehenension\n",
    "# x: x**2 (key is x, value is x^2)\n",
    "# for x in numbers is the loop\n",
    "{x: x**2 for x in numbers}"
   ]
  }
 ],
 "metadata": {
  "kernelspec": {
   "display_name": "venv",
   "language": "python",
   "name": "python3"
  },
  "language_info": {
   "codemirror_mode": {
    "name": "ipython",
    "version": 3
   },
   "file_extension": ".py",
   "mimetype": "text/x-python",
   "name": "python",
   "nbconvert_exporter": "python",
   "pygments_lexer": "ipython3",
   "version": "3.12.0"
  }
 },
 "nbformat": 4,
 "nbformat_minor": 2
}
