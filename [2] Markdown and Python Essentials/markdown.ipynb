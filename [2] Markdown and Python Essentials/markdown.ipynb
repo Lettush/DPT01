{
 "cells": [
  {
   "cell_type": "markdown",
   "metadata": {},
   "source": [
    "# Keyboard Shortcuts"
   ]
  },
  {
   "cell_type": "markdown",
   "metadata": {},
   "source": [
    "- **Shift + Enter**: Execute the current cell and move to the next one.\n",
    "- **Ctrl + Enter**: Execute the current cell and remain in the same cell.\n",
    "- **Esc**: Enter command mode, allowing for navigation and execution commands.\n",
    "- **Enter**: Enter edit mode for the currently selected cell.\n",
    "- **A (in command mode)**: Insert a new cell above the current cell.\n",
    "- **B (in command mode)**: Insert a new cell below the current cell.\n",
    "- **M (in command mode)**: Change the current cell to a Markdown cell.\n",
    "- **Y (in command mode)**: Change the current cell to a Code cell."
   ]
  },
  {
   "cell_type": "markdown",
   "metadata": {},
   "source": [
    "### What is Markdown?\n",
    "- markup language with plain-text format.\n",
    "- used for creating documentation, writing README files for projects, writing emails."
   ]
  },
  {
   "cell_type": "markdown",
   "metadata": {},
   "source": [
    "### Basic Markdown Syntax\n",
    "Headings - (#)\n",
    "# Heading 1 - Title\n",
    "## Heading 2 - Subtitle\n",
    "### Heading 3 - Subheading\n",
    "#### Heading 4 - 4th level subheading\n",
    "##### Heading 5\n",
    "###### Heading 6"
   ]
  },
  {
   "cell_type": "markdown",
   "metadata": {},
   "source": [
    "#### Text Formatting\n",
    "\n",
    "Bold - (** **) / (__ __)\n",
    "\n",
    "**important**\n",
    "\n",
    "__important__\n",
    "\n",
    "line breaks - there should be an additional blank line"
   ]
  },
  {
   "cell_type": "markdown",
   "metadata": {},
   "source": [
    "Italics - (* *)  / (_ _)\n",
    "\n",
    "*emphasize*\n",
    "\n",
    "_emphasize_|"
   ]
  },
  {
   "cell_type": "markdown",
   "metadata": {},
   "source": [
    "Strikethrough (~~ ~~)\n",
    "\n",
    "~~500~~ 200"
   ]
  },
  {
   "cell_type": "markdown",
   "metadata": {},
   "source": [
    "Superscript (^ ^) and Subscript (~ ~)\n",
    "\n",
    "H~2~0 is the formula for water.\n",
    "\n",
    "H<sub>2</sub>0\n",
    "\n",
    "2^2^ = 4\n",
    "\n",
    "2<sup>2</sup> = 4"
   ]
  },
  {
   "cell_type": "markdown",
   "metadata": {},
   "source": [
    "Inline Code (` `)\n",
    "\n",
    "`print(\"hello,world!\")`"
   ]
  },
  {
   "cell_type": "markdown",
   "metadata": {},
   "source": [
    "Blockquotes (> )\n",
    "\n",
    "> Time is gold. - Unknown"
   ]
  },
  {
   "cell_type": "markdown",
   "metadata": {},
   "source": [
    "Horizontal Rule ( --- ) ( *** ) ( ___ )\n",
    "\n",
    "---\n",
    "\n",
    "***\n",
    "\n",
    "___"
   ]
  },
  {
   "cell_type": "markdown",
   "metadata": {},
   "source": [
    "##### Ordered List - numbers followed by period\n",
    "1. Breakfast\n",
    "2. Lunch\n",
    "3. Dinner\n",
    "\n",
    "##### Unordered List - use dashes, asterisk, plus sign\n",
    "- Reading\n",
    "* Playing\n",
    "+ Eating\n",
    "\n",
    "##### Nested List - list within a list\n",
    "1. Breakfast\n",
    "\t- eggs\n",
    "\t* bacon\n",
    "2. Lunch\n",
    "\t+ chimken\n",
    "\t- rice\n",
    "3. Dinner\n",
    "\t* pancit canton\n",
    "\t- soda"
   ]
  },
  {
   "cell_type": "markdown",
   "metadata": {},
   "source": [
    "#### Links\n",
    "[Google](https://www.google.com)"
   ]
  },
  {
   "cell_type": "markdown",
   "metadata": {},
   "source": [
    "#### Images\n",
    "![alt text](https://cdn.icon-icons.com/icons2/2699/PNG/512/jupyter_logo_icon_169453.png)\n",
    "\n",
    "![jupyter icon](https://cdn.i/icons2/2699/PNG/512/jupyter_logo_icon_169453.png)"
   ]
  },
  {
   "cell_type": "markdown",
   "metadata": {},
   "source": [
    "#### Tables\n",
    "1. Headers: Headers are defined by using a pipe symbol (|) to separate columns and hyphens (-) to separate the header row from the content rows. Each column's width is determined by the width of the content within it.\n",
    "2. Content Rows: Content rows follow the same format as the header row. Each cell's content is separated by pipe symbols (|).\n",
    "3. Formatting: You can include basic formatting within cells, such as italics, bold, or links, just like in regular Markdown text.\n",
    "\n",
    "| Person  | Favorite Color | Favorite Meal |\n",
    "|-|-|-|\n",
    "|Shannon | Red    | Curry Chicken  |\n",
    "|David      |Blue| Hamburger and Steak  |\n",
    "|Troy    |Magenta    | Onion  |"
   ]
  }
 ],
 "metadata": {
  "language_info": {
   "name": "python"
  }
 },
 "nbformat": 4,
 "nbformat_minor": 2
}
