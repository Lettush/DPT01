{
 "cells": [
  {
   "cell_type": "code",
   "execution_count": 1,
   "metadata": {},
   "outputs": [],
   "source": [
    "%load_ext sql"
   ]
  },
  {
   "cell_type": "code",
   "execution_count": 2,
   "metadata": {},
   "outputs": [],
   "source": [
    "%sql sqlite:///pandas-sql.db"
   ]
  },
  {
   "cell_type": "code",
   "execution_count": 3,
   "metadata": {},
   "outputs": [
    {
     "name": "stdout",
     "output_type": "stream",
     "text": [
      "Note: you may need to restart the kernel to use updated packages.\n"
     ]
    },
    {
     "name": "stderr",
     "output_type": "stream",
     "text": [
      "ERROR: Could not find a version that satisfies the requirement sqlite3 (from versions: none)\n",
      "ERROR: No matching distribution found for sqlite3\n",
      "\n",
      "[notice] A new release of pip is available: 23.2.1 -> 24.0\n",
      "[notice] To update, run: python.exe -m pip install --upgrade pip\n"
     ]
    }
   ],
   "source": [
    "%pip install sqlite3"
   ]
  },
  {
   "cell_type": "code",
   "execution_count": 5,
   "metadata": {},
   "outputs": [
    {
     "name": "stdout",
     "output_type": "stream",
     "text": [
      " * sqlite:///pandas-sql.db\n",
      "Done.\n"
     ]
    },
    {
     "data": {
      "text/plain": [
       "[]"
      ]
     },
     "execution_count": 5,
     "metadata": {},
     "output_type": "execute_result"
    }
   ],
   "source": [
    "%%sql\n",
    "CREATE TABLE IF NOT EXISTS employees (\n",
    "    employee_id INTEGER PRIMARY KEY AUTOINCREMENT,\n",
    "    first_name VARCHAR(50) NOT NULL,\n",
    "    last_name VARCHAR(50) NOT NULL,\n",
    "    department VARCHAR(50),\n",
    "    salary DECIMAL(10, 2) NOT NULL\n",
    ");"
   ]
  },
  {
   "cell_type": "code",
   "execution_count": 6,
   "metadata": {},
   "outputs": [
    {
     "name": "stdout",
     "output_type": "stream",
     "text": [
      " * sqlite:///pandas-sql.db\n",
      "Done.\n",
      "Done.\n",
      "1 rows affected.\n",
      "1 rows affected.\n",
      "1 rows affected.\n",
      "1 rows affected.\n",
      "1 rows affected.\n"
     ]
    },
    {
     "data": {
      "text/plain": [
       "[]"
      ]
     },
     "execution_count": 6,
     "metadata": {},
     "output_type": "execute_result"
    }
   ],
   "source": [
    "%%sql\n",
    "ALTER TABLE employees\n",
    "ADD hire_date DATE;\n",
    "\n",
    "ALTER TABLE employees\n",
    "ADD performance_rating INT;\n",
    "\n",
    "INSERT INTO employees (employee_id, first_name, last_name, department, salary, hire_date, performance_rating) \n",
    "VALUES (1, 'John', 'Doe', 'Sales', 50000.00, '2024-04-23', 3);\n",
    "\n",
    "INSERT INTO employees (employee_id, first_name, last_name, department, salary, hire_date, performance_rating) \n",
    "VALUES (2, 'Jane', 'Smith', 'Marketing', 55000.00, '2024-04-25', 4);\n",
    "\n",
    "INSERT INTO employees (employee_id, first_name, last_name, department, salary, hire_date, performance_rating) \n",
    "VALUES (3, 'Michael', 'Johnson', 'Sales', 60000.00, '2024-04-26', 5);\n",
    "\n",
    "INSERT INTO employees (employee_id, first_name, last_name, department, salary, hire_date, performance_rating) \n",
    "VALUES (4, 'Emily', 'Davis', 'Operations', 62000.00, '2024-04-27', 2);\n",
    "\n",
    "INSERT INTO employees (employee_id, first_name, last_name, department, salary, hire_date, performance_rating) \n",
    "VALUES (5, 'David', 'Wilson', 'Operations', 58000.00, '2024-04-28', 1);"
   ]
  },
  {
   "cell_type": "code",
   "execution_count": 7,
   "metadata": {},
   "outputs": [
    {
     "name": "stdout",
     "output_type": "stream",
     "text": [
      " * sqlite:///pandas-sql.db\n",
      "Done.\n"
     ]
    },
    {
     "data": {
      "text/html": [
       "<table>\n",
       "    <thead>\n",
       "        <tr>\n",
       "            <th>employee_id</th>\n",
       "            <th>first_name</th>\n",
       "            <th>last_name</th>\n",
       "            <th>department</th>\n",
       "            <th>salary</th>\n",
       "            <th>hire_date</th>\n",
       "            <th>performance_rating</th>\n",
       "        </tr>\n",
       "    </thead>\n",
       "    <tbody>\n",
       "        <tr>\n",
       "            <td>1</td>\n",
       "            <td>John</td>\n",
       "            <td>Doe</td>\n",
       "            <td>Sales</td>\n",
       "            <td>50000</td>\n",
       "            <td>2024-04-23</td>\n",
       "            <td>3</td>\n",
       "        </tr>\n",
       "        <tr>\n",
       "            <td>2</td>\n",
       "            <td>Jane</td>\n",
       "            <td>Smith</td>\n",
       "            <td>Marketing</td>\n",
       "            <td>55000</td>\n",
       "            <td>2024-04-25</td>\n",
       "            <td>4</td>\n",
       "        </tr>\n",
       "        <tr>\n",
       "            <td>3</td>\n",
       "            <td>Michael</td>\n",
       "            <td>Johnson</td>\n",
       "            <td>Sales</td>\n",
       "            <td>60000</td>\n",
       "            <td>2024-04-26</td>\n",
       "            <td>5</td>\n",
       "        </tr>\n",
       "        <tr>\n",
       "            <td>4</td>\n",
       "            <td>Emily</td>\n",
       "            <td>Davis</td>\n",
       "            <td>Operations</td>\n",
       "            <td>62000</td>\n",
       "            <td>2024-04-27</td>\n",
       "            <td>2</td>\n",
       "        </tr>\n",
       "        <tr>\n",
       "            <td>5</td>\n",
       "            <td>David</td>\n",
       "            <td>Wilson</td>\n",
       "            <td>Operations</td>\n",
       "            <td>58000</td>\n",
       "            <td>2024-04-28</td>\n",
       "            <td>1</td>\n",
       "        </tr>\n",
       "    </tbody>\n",
       "</table>"
      ],
      "text/plain": [
       "[(1, 'John', 'Doe', 'Sales', 50000, '2024-04-23', 3),\n",
       " (2, 'Jane', 'Smith', 'Marketing', 55000, '2024-04-25', 4),\n",
       " (3, 'Michael', 'Johnson', 'Sales', 60000, '2024-04-26', 5),\n",
       " (4, 'Emily', 'Davis', 'Operations', 62000, '2024-04-27', 2),\n",
       " (5, 'David', 'Wilson', 'Operations', 58000, '2024-04-28', 1)]"
      ]
     },
     "execution_count": 7,
     "metadata": {},
     "output_type": "execute_result"
    }
   ],
   "source": [
    "%sql SELECT * FROM employees;"
   ]
  },
  {
   "cell_type": "code",
   "execution_count": 8,
   "metadata": {},
   "outputs": [
    {
     "name": "stdout",
     "output_type": "stream",
     "text": [
      "Collecting pandasNote: you may need to restart the kernel to use updated packages.\n"
     ]
    },
    {
     "name": "stderr",
     "output_type": "stream",
     "text": [
      "\n",
      "[notice] A new release of pip is available: 23.2.1 -> 24.0\n",
      "[notice] To update, run: python.exe -m pip install --upgrade pip\n"
     ]
    },
    {
     "name": "stdout",
     "output_type": "stream",
     "text": [
      "\n",
      "  Obtaining dependency information for pandas from https://files.pythonhosted.org/packages/22/a5/a0b255295406ed54269814bc93723cfd1a0da63fb9aaf99e1364f07923e5/pandas-2.2.2-cp312-cp312-win_amd64.whl.metadata\n",
      "  Using cached pandas-2.2.2-cp312-cp312-win_amd64.whl.metadata (19 kB)\n",
      "Collecting numpy>=1.26.0 (from pandas)\n",
      "  Obtaining dependency information for numpy>=1.26.0 from https://files.pythonhosted.org/packages/ad/9c/4a93b8e395b755c53628573d75d7b21985d9a0f416e978d637084ccc8ec3/numpy-2.0.0-cp312-cp312-win_amd64.whl.metadata\n",
      "  Downloading numpy-2.0.0-cp312-cp312-win_amd64.whl.metadata (60 kB)\n",
      "     ---------------------------------------- 0.0/60.9 kB ? eta -:--:--\n",
      "     ------------ ------------------------- 20.5/60.9 kB 217.9 kB/s eta 0:00:01\n",
      "     ------------------------- ------------ 41.0/60.9 kB 393.8 kB/s eta 0:00:01\n",
      "     -------------------------------------- 60.9/60.9 kB 538.9 kB/s eta 0:00:00\n",
      "Requirement already satisfied: python-dateutil>=2.8.2 in c:\\users\\lettush\\desktop\\dpt01\\venv\\lib\\site-packages (from pandas) (2.9.0.post0)\n",
      "Collecting pytz>=2020.1 (from pandas)\n",
      "  Obtaining dependency information for pytz>=2020.1 from https://files.pythonhosted.org/packages/9c/3d/a121f284241f08268b21359bd425f7d4825cffc5ac5cd0e1b3d82ffd2b10/pytz-2024.1-py2.py3-none-any.whl.metadata\n",
      "  Using cached pytz-2024.1-py2.py3-none-any.whl.metadata (22 kB)\n",
      "Collecting tzdata>=2022.7 (from pandas)\n",
      "  Obtaining dependency information for tzdata>=2022.7 from https://files.pythonhosted.org/packages/65/58/f9c9e6be752e9fcb8b6a0ee9fb87e6e7a1f6bcab2cdc73f02bb7ba91ada0/tzdata-2024.1-py2.py3-none-any.whl.metadata\n",
      "  Using cached tzdata-2024.1-py2.py3-none-any.whl.metadata (1.4 kB)\n",
      "Requirement already satisfied: six>=1.5 in c:\\users\\lettush\\desktop\\dpt01\\venv\\lib\\site-packages (from python-dateutil>=2.8.2->pandas) (1.16.0)\n",
      "Using cached pandas-2.2.2-cp312-cp312-win_amd64.whl (11.5 MB)\n",
      "Downloading numpy-2.0.0-cp312-cp312-win_amd64.whl (16.2 MB)\n",
      "   ---------------------------------------- 0.0/16.2 MB ? eta -:--:--\n",
      "   - -------------------------------------- 0.5/16.2 MB 16.0 MB/s eta 0:00:01\n",
      "   -- ------------------------------------- 0.9/16.2 MB 9.7 MB/s eta 0:00:02\n",
      "   --- ------------------------------------ 1.5/16.2 MB 10.5 MB/s eta 0:00:02\n",
      "   ---- ----------------------------------- 2.0/16.2 MB 11.6 MB/s eta 0:00:02\n",
      "   ------ --------------------------------- 2.5/16.2 MB 11.4 MB/s eta 0:00:02\n",
      "   ------- -------------------------------- 3.0/16.2 MB 11.2 MB/s eta 0:00:02\n",
      "   -------- ------------------------------- 3.5/16.2 MB 11.2 MB/s eta 0:00:02\n",
      "   --------- ------------------------------ 4.0/16.2 MB 11.1 MB/s eta 0:00:02\n",
      "   ----------- ---------------------------- 4.6/16.2 MB 11.2 MB/s eta 0:00:02\n",
      "   ------------ --------------------------- 5.1/16.2 MB 11.2 MB/s eta 0:00:01\n",
      "   ------------- -------------------------- 5.7/16.2 MB 11.3 MB/s eta 0:00:01\n",
      "   --------------- ------------------------ 6.2/16.2 MB 11.3 MB/s eta 0:00:01\n",
      "   ---------------- ----------------------- 6.7/16.2 MB 11.2 MB/s eta 0:00:01\n",
      "   ----------------- ---------------------- 7.2/16.2 MB 11.2 MB/s eta 0:00:01\n",
      "   ------------------- -------------------- 7.7/16.2 MB 11.2 MB/s eta 0:00:01\n",
      "   -------------------- ------------------- 8.3/16.2 MB 11.2 MB/s eta 0:00:01\n",
      "   --------------------- ------------------ 8.8/16.2 MB 11.2 MB/s eta 0:00:01\n",
      "   ---------------------- ----------------- 9.3/16.2 MB 11.2 MB/s eta 0:00:01\n",
      "   ------------------------ --------------- 9.7/16.2 MB 11.1 MB/s eta 0:00:01\n",
      "   ------------------------- -------------- 10.3/16.2 MB 11.1 MB/s eta 0:00:01\n",
      "   -------------------------- ------------- 10.9/16.2 MB 11.1 MB/s eta 0:00:01\n",
      "   ---------------------------- ----------- 11.4/16.2 MB 11.3 MB/s eta 0:00:01\n",
      "   ----------------------------- ---------- 11.9/16.2 MB 11.3 MB/s eta 0:00:01\n",
      "   ------------------------------ --------- 12.4/16.2 MB 11.1 MB/s eta 0:00:01\n",
      "   ------------------------------- -------- 12.9/16.2 MB 11.3 MB/s eta 0:00:01\n",
      "   --------------------------------- ------ 13.5/16.2 MB 11.3 MB/s eta 0:00:01\n",
      "   ---------------------------------- ----- 14.0/16.2 MB 11.3 MB/s eta 0:00:01\n",
      "   ----------------------------------- ---- 14.6/16.2 MB 11.3 MB/s eta 0:00:01\n",
      "   ------------------------------------- -- 15.1/16.2 MB 11.3 MB/s eta 0:00:01\n",
      "   -------------------------------------- - 15.6/16.2 MB 11.3 MB/s eta 0:00:01\n",
      "   ---------------------------------------  16.1/16.2 MB 11.3 MB/s eta 0:00:01\n",
      "   ---------------------------------------- 16.2/16.2 MB 10.7 MB/s eta 0:00:00\n",
      "Using cached pytz-2024.1-py2.py3-none-any.whl (505 kB)\n",
      "Using cached tzdata-2024.1-py2.py3-none-any.whl (345 kB)\n",
      "Installing collected packages: pytz, tzdata, numpy, pandas\n",
      "Successfully installed numpy-2.0.0 pandas-2.2.2 pytz-2024.1 tzdata-2024.1\n"
     ]
    }
   ],
   "source": [
    "%pip install pandas"
   ]
  },
  {
   "cell_type": "code",
   "execution_count": 2,
   "metadata": {},
   "outputs": [
    {
     "data": {
      "text/html": [
       "<div>\n",
       "<style scoped>\n",
       "    .dataframe tbody tr th:only-of-type {\n",
       "        vertical-align: middle;\n",
       "    }\n",
       "\n",
       "    .dataframe tbody tr th {\n",
       "        vertical-align: top;\n",
       "    }\n",
       "\n",
       "    .dataframe thead th {\n",
       "        text-align: right;\n",
       "    }\n",
       "</style>\n",
       "<table border=\"1\" class=\"dataframe\">\n",
       "  <thead>\n",
       "    <tr style=\"text-align: right;\">\n",
       "      <th></th>\n",
       "      <th>employee_id</th>\n",
       "      <th>first_name</th>\n",
       "      <th>last_name</th>\n",
       "      <th>department</th>\n",
       "      <th>salary</th>\n",
       "      <th>hire_date</th>\n",
       "      <th>performance_rating</th>\n",
       "    </tr>\n",
       "  </thead>\n",
       "  <tbody>\n",
       "    <tr>\n",
       "      <th>0</th>\n",
       "      <td>1</td>\n",
       "      <td>John</td>\n",
       "      <td>Doe</td>\n",
       "      <td>Sales</td>\n",
       "      <td>50000</td>\n",
       "      <td>2024-04-23</td>\n",
       "      <td>3</td>\n",
       "    </tr>\n",
       "    <tr>\n",
       "      <th>1</th>\n",
       "      <td>2</td>\n",
       "      <td>Jane</td>\n",
       "      <td>Smith</td>\n",
       "      <td>Marketing</td>\n",
       "      <td>55000</td>\n",
       "      <td>2024-04-25</td>\n",
       "      <td>4</td>\n",
       "    </tr>\n",
       "    <tr>\n",
       "      <th>2</th>\n",
       "      <td>3</td>\n",
       "      <td>Michael</td>\n",
       "      <td>Johnson</td>\n",
       "      <td>Sales</td>\n",
       "      <td>60000</td>\n",
       "      <td>2024-04-26</td>\n",
       "      <td>5</td>\n",
       "    </tr>\n",
       "    <tr>\n",
       "      <th>3</th>\n",
       "      <td>4</td>\n",
       "      <td>Emily</td>\n",
       "      <td>Davis</td>\n",
       "      <td>Operations</td>\n",
       "      <td>62000</td>\n",
       "      <td>2024-04-27</td>\n",
       "      <td>2</td>\n",
       "    </tr>\n",
       "    <tr>\n",
       "      <th>4</th>\n",
       "      <td>5</td>\n",
       "      <td>David</td>\n",
       "      <td>Wilson</td>\n",
       "      <td>Operations</td>\n",
       "      <td>58000</td>\n",
       "      <td>2024-04-28</td>\n",
       "      <td>1</td>\n",
       "    </tr>\n",
       "  </tbody>\n",
       "</table>\n",
       "</div>"
      ],
      "text/plain": [
       "   employee_id first_name last_name  department  salary   hire_date  \\\n",
       "0            1       John       Doe       Sales   50000  2024-04-23   \n",
       "1            2       Jane     Smith   Marketing   55000  2024-04-25   \n",
       "2            3    Michael   Johnson       Sales   60000  2024-04-26   \n",
       "3            4      Emily     Davis  Operations   62000  2024-04-27   \n",
       "4            5      David    Wilson  Operations   58000  2024-04-28   \n",
       "\n",
       "   performance_rating  \n",
       "0                   3  \n",
       "1                   4  \n",
       "2                   5  \n",
       "3                   2  \n",
       "4                   1  "
      ]
     },
     "execution_count": 2,
     "metadata": {},
     "output_type": "execute_result"
    }
   ],
   "source": [
    "import sqlite3\n",
    "import pandas as pd\n",
    "\n",
    "# Create a connection.\n",
    "conn = sqlite3.connect('pandas-sql.db')\n",
    "df = pd.read_sql_query(\"SELECT * FROM employees\", conn)\n",
    "\n",
    "# Insert pandas code\n",
    "\n",
    "# (Optional)\n",
    "conn.commit()\n",
    "conn.close()\n",
    "\n",
    "df"
   ]
  }
 ],
 "metadata": {
  "kernelspec": {
   "display_name": "venv",
   "language": "python",
   "name": "python3"
  },
  "language_info": {
   "codemirror_mode": {
    "name": "ipython",
    "version": 3
   },
   "file_extension": ".py",
   "mimetype": "text/x-python",
   "name": "python",
   "nbconvert_exporter": "python",
   "pygments_lexer": "ipython3",
   "version": "3.12.0"
  }
 },
 "nbformat": 4,
 "nbformat_minor": 2
}
